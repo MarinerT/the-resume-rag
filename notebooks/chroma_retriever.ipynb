{
 "cells": [
  {
   "cell_type": "code",
   "execution_count": 1,
   "metadata": {},
   "outputs": [],
   "source": [
    "import os\n",
    "os.chdir('..')"
   ]
  },
  {
   "cell_type": "code",
   "execution_count": 2,
   "metadata": {},
   "outputs": [
    {
     "name": "stderr",
     "output_type": "stream",
     "text": [
      "/Users/toddmarino/repos/the-resume-rag/venv/lib/python3.11/site-packages/pinecone/data/index.py:1: TqdmWarning: IProgress not found. Please update jupyter and ipywidgets. See https://ipywidgets.readthedocs.io/en/stable/user_install.html\n",
      "  from tqdm.autonotebook import tqdm\n"
     ]
    }
   ],
   "source": [
    "# PREDEFINED\n",
    "import streamlit as st\n",
    "from toddbo import connect_to_chroma, connect_to_collection\n",
    "client = connect_to_chroma(chroma_host=st.secrets.chroma.CHROMA_HOST, chroma_port=st.secrets.chroma.CHROMA_PORT)\n",
    "collection = connect_to_collection(client, st.secrets.chroma.COLLECTION)"
   ]
  },
  {
   "cell_type": "code",
   "execution_count": 3,
   "metadata": {},
   "outputs": [],
   "source": [
    "from langchain_openai import ChatOpenAI\n",
    "llm = ChatOpenAI(temperature=st.secrets.openai.temperature, model_name=st.secrets.openai.generation_model)"
   ]
  },
  {
   "cell_type": "code",
   "execution_count": 5,
   "metadata": {},
   "outputs": [],
   "source": [
    "import time\n",
    "import openai\n",
    "from typing import Dict, List, Union\n",
    "from langchain.retrievers.multi_query import MultiQueryRetriever\n",
    "from tenacity import (\n",
    "    retry,\n",
    "    stop_after_attempt,\n",
    "    wait_random_exponential,\n",
    ")\n",
    "\n",
    "@retry(wait=wait_random_exponential(min=1, max=60), stop=stop_after_attempt(6))\n",
    "def make_synchronous_openai_call(\n",
    "    *,\n",
    "    openai_api_key: str,\n",
    "    model: str,\n",
    "    temperature: float,\n",
    "    messages: List[Dict[str, Union[str, Dict[str, str]]]],\n",
    "    timeout_seconds: int,\n",
    "):\n",
    "    return openai.ChatCompletion.create(\n",
    "        api_key=openai_api_key,\n",
    "        model=model,\n",
    "        messages=messages,\n",
    "        top_p=1,\n",
    "        n=1,\n",
    "        max_tokens=st.secrets.openai.MAX_TOKENS,\n",
    "        temperature=temperature,\n",
    "        presence_penalty=0,\n",
    "        frequency_penalty=0,\n",
    "        logit_bias={},\n",
    "        stream=False,\n",
    "        request_timeout=timeout_seconds,\n",
    "    )\n",
    "   \n"
   ]
  },
  {
   "cell_type": "code",
   "execution_count": 8,
   "metadata": {},
   "outputs": [],
   "source": [
    "from langchain.vectorstores import Chroma\n",
    "\n",
    "\n",
    "def generate_context(\n",
    "    client,\n",
    "    embedding_function,\n",
    "    collection_name=\"resume\",\n",
    "    search_type=\"mmr\",\n",
    "    search_kwargs={\"fetch_k\": 100},\n",
    "):\n",
    "    docsearch = Chroma(\n",
    "        client=client,\n",
    "        collection_name=collection_name,\n",
    "        embedding_function=embedding_function,\n",
    "    )\n",
    "    retriever = docsearch.as_retriever(\n",
    "        search_type=search_type, search_kwargs=search_kwargs\n",
    "    )\n",
    "    return retriever"
   ]
  },
  {
   "cell_type": "code",
   "execution_count": 14,
   "metadata": {},
   "outputs": [],
   "source": [
    "from langchain_openai.embeddings import OpenAIEmbeddings\n",
    "\n",
    "\n",
    "def retrieve_chroma_documents(\n",
    "    llm,\n",
    "    client,\n",
    "    prompt: str,\n",
    "):\n",
    "    retriever = generate_context(\n",
    "        client,\n",
    "        embedding_function=OpenAIEmbeddings(openai_api_key=st.secrets.openai.OPENAI_API_KEY),\n",
    "        collection_name=st.secrets.chroma.COLLECTION,\n",
    "    )\n",
    "    retriever_from_llm = MultiQueryRetriever.from_llm(retriever=retriever, llm=llm)\n",
    "\n",
    "    unique_docs = retriever_from_llm.get_relevant_documents(query=prompt)\n",
    "    return unique_docs\n",
    "\n",
    "def generate_search_results(\n",
    "    *,\n",
    "    llm,\n",
    "    client,\n",
    "    user_prompt: str,\n",
    "    timeout_seconds: int=90,\n",
    ") -> str:\n",
    "    \n",
    "    start_time = time.time()\n",
    "    \n",
    "    documents = retrieve_chroma_documents(llm, client, user_prompt)\n",
    "    \n",
    "    messages = [\n",
    "        {\n",
    "            \"role\": \"system\",\n",
    "            \"content\": (\n",
    "                \"You're an personal assistant tasked with helping recruiters find relevant experience from Todd's resume. \"\n",
    "                \"Your task is to provide as many relevant documents as possible. \"\n",
    "                \"Lastly, generating results swiftly should be prioritized over achieving perfection.\"\n",
    "            ),\n",
    "        },\n",
    "        {\n",
    "            \"role\": \"user\",\n",
    "            \"content\": \"I'll provide input as text of a list of Documents in content that follows '!!!. \"\n",
    "            \"Each item in the list contains page_content and metadata.\"\n",
    "            \"Provide a brief summary of all the documents.\"\n",
    "            \"Give the section from the metadata and the related content.\" \n",
    "            \"Provide the information in short bullet points and provide the metadata with each document laid as such:\"\n",
    "            \"if a word is between * and *, make the word appear bold.\"\n",
    "            \"*Summary*: \"\n",
    "            \"*Section*: \"\n",
    "            \"*Supporting Details*:\"\n",
    "            \"Do not make stuff up. If a document has no valuable information, skip it.\"\n",
    "            f\"Here is the input !!!\\n{str(documents)}\",\n",
    "        },\n",
    "    ]\n",
    "    start_time = time.time()\n",
    "    \n",
    "    openai_response = make_synchronous_openai_call(\n",
    "        openai_api_key=st.secrets.openai.OPENAI_API_KEY,\n",
    "        model=st.secrets.openai.OPENAI_MODEL,\n",
    "        temperature=st.secrets.openai.temperature,\n",
    "        messages=messages,\n",
    "        timeout_seconds=timeout_seconds,\n",
    "    )\n",
    "    spent_time = time.time() - start_time\n",
    "    print(f\"Search took {spent_time} seconds\")\n",
    "    return openai_response[\"choices\"][0][\"message\"][\"content\"]\n"
   ]
  },
  {
   "cell_type": "code",
   "execution_count": 15,
   "metadata": {},
   "outputs": [
    {
     "ename": "RetryError",
     "evalue": "RetryError[<Future at 0x16d22c710 state=finished raised TypeError>]",
     "output_type": "error",
     "traceback": [
      "\u001b[0;31m---------------------------------------------------------------------------\u001b[0m",
      "\u001b[0;31mTypeError\u001b[0m                                 Traceback (most recent call last)",
      "File \u001b[0;32m~/repos/the-resume-rag/venv/lib/python3.11/site-packages/tenacity/__init__.py:382\u001b[0m, in \u001b[0;36mRetrying.__call__\u001b[0;34m(self, fn, *args, **kwargs)\u001b[0m\n\u001b[1;32m    381\u001b[0m \u001b[39mtry\u001b[39;00m:\n\u001b[0;32m--> 382\u001b[0m     result \u001b[39m=\u001b[39m fn(\u001b[39m*\u001b[39;49margs, \u001b[39m*\u001b[39;49m\u001b[39m*\u001b[39;49mkwargs)\n\u001b[1;32m    383\u001b[0m \u001b[39mexcept\u001b[39;00m \u001b[39mBaseException\u001b[39;00m:  \u001b[39m# noqa: B902\u001b[39;00m\n",
      "\u001b[0;31mTypeError\u001b[0m: make_synchronous_openai_call() missing 1 required keyword-only argument: 'timeout_seconds'",
      "\nThe above exception was the direct cause of the following exception:\n",
      "\u001b[0;31mRetryError\u001b[0m                                Traceback (most recent call last)",
      "Cell \u001b[0;32mIn[15], line 3\u001b[0m\n\u001b[1;32m      1\u001b[0m user_prompt \u001b[39m=\u001b[39m \u001b[39m\"\u001b[39m\u001b[39mwhere did Todd work in 2021?\u001b[39m\u001b[39m\"\u001b[39m\n\u001b[0;32m----> 3\u001b[0m f \u001b[39m=\u001b[39m generate_search_results(llm\u001b[39m=\u001b[39;49mllm, client\u001b[39m=\u001b[39;49mclient, user_prompt\u001b[39m=\u001b[39;49muser_prompt, timeout_seconds\u001b[39m=\u001b[39;49m\u001b[39m90\u001b[39;49m)\n",
      "Cell \u001b[0;32mIn[14], line 57\u001b[0m, in \u001b[0;36mgenerate_search_results\u001b[0;34m(llm, client, user_prompt, timeout_seconds)\u001b[0m\n\u001b[1;32m     31\u001b[0m messages \u001b[39m=\u001b[39m [\n\u001b[1;32m     32\u001b[0m     {\n\u001b[1;32m     33\u001b[0m         \u001b[39m\"\u001b[39m\u001b[39mrole\u001b[39m\u001b[39m\"\u001b[39m: \u001b[39m\"\u001b[39m\u001b[39msystem\u001b[39m\u001b[39m\"\u001b[39m,\n\u001b[0;32m   (...)\u001b[0m\n\u001b[1;32m     53\u001b[0m     },\n\u001b[1;32m     54\u001b[0m ]\n\u001b[1;32m     55\u001b[0m start_time \u001b[39m=\u001b[39m time\u001b[39m.\u001b[39mtime()\n\u001b[0;32m---> 57\u001b[0m openai_response \u001b[39m=\u001b[39m make_synchronous_openai_call(\n\u001b[1;32m     58\u001b[0m     openai_api_key\u001b[39m=\u001b[39;49mst\u001b[39m.\u001b[39;49msecrets\u001b[39m.\u001b[39;49mopenai\u001b[39m.\u001b[39;49mOPENAI_API_KEY,\n\u001b[1;32m     59\u001b[0m     model\u001b[39m=\u001b[39;49mst\u001b[39m.\u001b[39;49msecrets\u001b[39m.\u001b[39;49mopenai\u001b[39m.\u001b[39;49mOPENAI_MODEL,\n\u001b[1;32m     60\u001b[0m     temperature\u001b[39m=\u001b[39;49mst\u001b[39m.\u001b[39;49msecrets\u001b[39m.\u001b[39;49mopenai\u001b[39m.\u001b[39;49mtemperature,\n\u001b[1;32m     61\u001b[0m     messages\u001b[39m=\u001b[39;49mmessages\n\u001b[1;32m     62\u001b[0m )\n\u001b[1;32m     63\u001b[0m spent_time \u001b[39m=\u001b[39m time\u001b[39m.\u001b[39mtime() \u001b[39m-\u001b[39m start_time\n\u001b[1;32m     64\u001b[0m \u001b[39mprint\u001b[39m(\u001b[39mf\u001b[39m\u001b[39m\"\u001b[39m\u001b[39mSearch took \u001b[39m\u001b[39m{\u001b[39;00mspent_time\u001b[39m}\u001b[39;00m\u001b[39m seconds\u001b[39m\u001b[39m\"\u001b[39m)\n",
      "File \u001b[0;32m~/repos/the-resume-rag/venv/lib/python3.11/site-packages/tenacity/__init__.py:289\u001b[0m, in \u001b[0;36mBaseRetrying.wraps.<locals>.wrapped_f\u001b[0;34m(*args, **kw)\u001b[0m\n\u001b[1;32m    287\u001b[0m \u001b[39m@functools\u001b[39m\u001b[39m.\u001b[39mwraps(f)\n\u001b[1;32m    288\u001b[0m \u001b[39mdef\u001b[39;00m \u001b[39mwrapped_f\u001b[39m(\u001b[39m*\u001b[39margs: t\u001b[39m.\u001b[39mAny, \u001b[39m*\u001b[39m\u001b[39m*\u001b[39mkw: t\u001b[39m.\u001b[39mAny) \u001b[39m-\u001b[39m\u001b[39m>\u001b[39m t\u001b[39m.\u001b[39mAny:\n\u001b[0;32m--> 289\u001b[0m     \u001b[39mreturn\u001b[39;00m \u001b[39mself\u001b[39;49m(f, \u001b[39m*\u001b[39;49margs, \u001b[39m*\u001b[39;49m\u001b[39m*\u001b[39;49mkw)\n",
      "File \u001b[0;32m~/repos/the-resume-rag/venv/lib/python3.11/site-packages/tenacity/__init__.py:379\u001b[0m, in \u001b[0;36mRetrying.__call__\u001b[0;34m(self, fn, *args, **kwargs)\u001b[0m\n\u001b[1;32m    377\u001b[0m retry_state \u001b[39m=\u001b[39m RetryCallState(retry_object\u001b[39m=\u001b[39m\u001b[39mself\u001b[39m, fn\u001b[39m=\u001b[39mfn, args\u001b[39m=\u001b[39margs, kwargs\u001b[39m=\u001b[39mkwargs)\n\u001b[1;32m    378\u001b[0m \u001b[39mwhile\u001b[39;00m \u001b[39mTrue\u001b[39;00m:\n\u001b[0;32m--> 379\u001b[0m     do \u001b[39m=\u001b[39m \u001b[39mself\u001b[39;49m\u001b[39m.\u001b[39;49miter(retry_state\u001b[39m=\u001b[39;49mretry_state)\n\u001b[1;32m    380\u001b[0m     \u001b[39mif\u001b[39;00m \u001b[39misinstance\u001b[39m(do, DoAttempt):\n\u001b[1;32m    381\u001b[0m         \u001b[39mtry\u001b[39;00m:\n",
      "File \u001b[0;32m~/repos/the-resume-rag/venv/lib/python3.11/site-packages/tenacity/__init__.py:326\u001b[0m, in \u001b[0;36mBaseRetrying.iter\u001b[0;34m(self, retry_state)\u001b[0m\n\u001b[1;32m    324\u001b[0m     \u001b[39mif\u001b[39;00m \u001b[39mself\u001b[39m\u001b[39m.\u001b[39mreraise:\n\u001b[1;32m    325\u001b[0m         \u001b[39mraise\u001b[39;00m retry_exc\u001b[39m.\u001b[39mreraise()\n\u001b[0;32m--> 326\u001b[0m     \u001b[39mraise\u001b[39;00m retry_exc \u001b[39mfrom\u001b[39;00m \u001b[39mfut\u001b[39;00m\u001b[39m.\u001b[39;00m\u001b[39mexception\u001b[39;00m()\n\u001b[1;32m    328\u001b[0m \u001b[39mif\u001b[39;00m \u001b[39mself\u001b[39m\u001b[39m.\u001b[39mwait:\n\u001b[1;32m    329\u001b[0m     sleep \u001b[39m=\u001b[39m \u001b[39mself\u001b[39m\u001b[39m.\u001b[39mwait(retry_state)\n",
      "\u001b[0;31mRetryError\u001b[0m: RetryError[<Future at 0x16d22c710 state=finished raised TypeError>]"
     ]
    }
   ],
   "source": [
    "user_prompt = \"where did Todd work in 2021?\"\n",
    "\n",
    "f = generate_search_results(llm=llm, client=client, user_prompt=user_prompt, timeout_seconds=90)"
   ]
  },
  {
   "cell_type": "code",
   "execution_count": null,
   "metadata": {},
   "outputs": [],
   "source": [
    "f"
   ]
  }
 ],
 "metadata": {
  "kernelspec": {
   "display_name": "venv",
   "language": "python",
   "name": "python3"
  },
  "language_info": {
   "codemirror_mode": {
    "name": "ipython",
    "version": 3
   },
   "file_extension": ".py",
   "mimetype": "text/x-python",
   "name": "python",
   "nbconvert_exporter": "python",
   "pygments_lexer": "ipython3",
   "version": "3.11.6"
  },
  "orig_nbformat": 4
 },
 "nbformat": 4,
 "nbformat_minor": 2
}
